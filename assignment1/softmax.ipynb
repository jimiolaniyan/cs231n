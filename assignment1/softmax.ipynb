{
 "cells": [
  {
   "cell_type": "markdown",
   "metadata": {},
   "source": [
    "# Softmax exercise\n",
    "\n",
    "*Complete and hand in this completed worksheet (including its outputs and any supporting code outside of the worksheet) with your assignment submission. For more details see the [assignments page](http://vision.stanford.edu/teaching/cs231n/assignments.html) on the course website.*\n",
    "\n",
    "This exercise is analogous to the SVM exercise. You will:\n",
    "\n",
    "- implement a fully-vectorized **loss function** for the Softmax classifier\n",
    "- implement the fully-vectorized expression for its **analytic gradient**\n",
    "- **check your implementation** with numerical gradient\n",
    "- use a validation set to **tune the learning rate and regularization** strength\n",
    "- **optimize** the loss function with **SGD**\n",
    "- **visualize** the final learned weights\n"
   ]
  },
  {
   "cell_type": "code",
   "execution_count": 1,
   "metadata": {
    "collapsed": false
   },
   "outputs": [],
   "source": [
    "import random\n",
    "import numpy as np\n",
    "from cs231n.data_utils import load_CIFAR10\n",
    "import matplotlib.pyplot as plt\n",
    "\n",
    "from __future__ import print_function\n",
    "\n",
    "%matplotlib inline\n",
    "plt.rcParams['figure.figsize'] = (10.0, 8.0) # set default size of plots\n",
    "plt.rcParams['image.interpolation'] = 'nearest'\n",
    "plt.rcParams['image.cmap'] = 'gray'\n",
    "\n",
    "# for auto-reloading extenrnal modules\n",
    "# see http://stackoverflow.com/questions/1907993/autoreload-of-modules-in-ipython\n",
    "%load_ext autoreload\n",
    "%autoreload 2"
   ]
  },
  {
   "cell_type": "code",
   "execution_count": 2,
   "metadata": {
    "collapsed": false
   },
   "outputs": [
    {
     "name": "stdout",
     "output_type": "stream",
     "text": [
      "Train data shape:  (49000, 3073)\n",
      "Train labels shape:  (49000,)\n",
      "Validation data shape:  (1000, 3073)\n",
      "Validation labels shape:  (1000,)\n",
      "Test data shape:  (1000, 3073)\n",
      "Test labels shape:  (1000,)\n",
      "dev data shape:  (500, 3073)\n",
      "dev labels shape:  (500,)\n"
     ]
    }
   ],
   "source": [
    "def get_CIFAR10_data(num_training=49000, num_validation=1000, num_test=1000, num_dev=500):\n",
    "    \"\"\"\n",
    "    Load the CIFAR-10 dataset from disk and perform preprocessing to prepare\n",
    "    it for the linear classifier. These are the same steps as we used for the\n",
    "    SVM, but condensed to a single function.  \n",
    "    \"\"\"\n",
    "    # Load the raw CIFAR-10 data\n",
    "    cifar10_dir = 'cs231n/datasets/cifar-10-batches-py'\n",
    "    X_train, y_train, X_test, y_test = load_CIFAR10(cifar10_dir)\n",
    "    \n",
    "    # subsample the data\n",
    "    mask = list(range(num_training, num_training + num_validation))\n",
    "    X_val = X_train[mask]\n",
    "    y_val = y_train[mask]\n",
    "    mask = list(range(num_training))\n",
    "    X_train = X_train[mask]\n",
    "    y_train = y_train[mask]\n",
    "    mask = list(range(num_test))\n",
    "    X_test = X_test[mask]\n",
    "    y_test = y_test[mask]\n",
    "    mask = np.random.choice(num_training, num_dev, replace=False)\n",
    "    X_dev = X_train[mask]\n",
    "    y_dev = y_train[mask]\n",
    "    \n",
    "    # Preprocessing: reshape the image data into rows\n",
    "    X_train = np.reshape(X_train, (X_train.shape[0], -1))\n",
    "    X_val = np.reshape(X_val, (X_val.shape[0], -1))\n",
    "    X_test = np.reshape(X_test, (X_test.shape[0], -1))\n",
    "    X_dev = np.reshape(X_dev, (X_dev.shape[0], -1))\n",
    "    \n",
    "    # Normalize the data: subtract the mean image\n",
    "    mean_image = np.mean(X_train, axis = 0)\n",
    "    X_train -= mean_image\n",
    "    X_val -= mean_image\n",
    "    X_test -= mean_image\n",
    "    X_dev -= mean_image\n",
    "    \n",
    "    # add bias dimension and transform into columns\n",
    "    X_train = np.hstack([X_train, np.ones((X_train.shape[0], 1))])\n",
    "    X_val = np.hstack([X_val, np.ones((X_val.shape[0], 1))])\n",
    "    X_test = np.hstack([X_test, np.ones((X_test.shape[0], 1))])\n",
    "    X_dev = np.hstack([X_dev, np.ones((X_dev.shape[0], 1))])\n",
    "    \n",
    "    return X_train, y_train, X_val, y_val, X_test, y_test, X_dev, y_dev\n",
    "\n",
    "\n",
    "# Invoke the above function to get our data.\n",
    "X_train, y_train, X_val, y_val, X_test, y_test, X_dev, y_dev = get_CIFAR10_data()\n",
    "print('Train data shape: ', X_train.shape)\n",
    "print('Train labels shape: ', y_train.shape)\n",
    "print('Validation data shape: ', X_val.shape)\n",
    "print('Validation labels shape: ', y_val.shape)\n",
    "print('Test data shape: ', X_test.shape)\n",
    "print('Test labels shape: ', y_test.shape)\n",
    "print('dev data shape: ', X_dev.shape)\n",
    "print('dev labels shape: ', y_dev.shape)"
   ]
  },
  {
   "cell_type": "markdown",
   "metadata": {},
   "source": [
    "## Softmax Classifier\n",
    "\n",
    "Your code for this section will all be written inside **cs231n/classifiers/softmax.py**. \n"
   ]
  },
  {
   "cell_type": "code",
   "execution_count": 62,
   "metadata": {
    "collapsed": false,
    "scrolled": false
   },
   "outputs": [
    {
     "name": "stdout",
     "output_type": "stream",
     "text": [
      "loss: 2.376071\n",
      "sanity check: 2.302585\n"
     ]
    }
   ],
   "source": [
    "# First implement the naive softmax loss function with nested loops.\n",
    "# Open the file cs231n/classifiers/softmax.py and implement the\n",
    "# softmax_loss_naive function.\n",
    "\n",
    "from cs231n.classifiers.softmax import softmax_loss_naive\n",
    "import time\n",
    "\n",
    "# Generate a random softmax weight matrix and use it to compute the loss.\n",
    "W = np.random.randn(3073, 10) * 0.0001\n",
    "loss, grad = softmax_loss_naive(W, X_dev, y_dev, 0.0)\n",
    "\n",
    "# As a rough sanity check, our loss should be something close to -log(0.1).\n",
    "print('loss: %f' % loss)\n",
    "print('sanity check: %f' % (-np.log(0.1)))"
   ]
  },
  {
   "cell_type": "markdown",
   "metadata": {},
   "source": [
    "## Inline Question 1:\n",
    "Why do we expect our loss to be close to -log(0.1)? Explain briefly.**\n",
    "\n",
    "**Your answer:** *Fill this in*\n"
   ]
  },
  {
   "cell_type": "code",
   "execution_count": 63,
   "metadata": {
    "collapsed": false
   },
   "outputs": [
    {
     "name": "stdout",
     "output_type": "stream",
     "text": [
      "numerical: -1.769553 analytic: -1.769553, relative error: 2.512979e-08\n",
      "numerical: -0.056921 analytic: -0.056921, relative error: 1.626522e-08\n",
      "numerical: -0.394294 analytic: -0.394294, relative error: 9.436971e-08\n",
      "numerical: -0.002479 analytic: -0.002478, relative error: 1.378892e-05\n",
      "numerical: 0.070445 analytic: 0.070445, relative error: 3.072388e-07\n",
      "numerical: 0.126074 analytic: 0.126074, relative error: 6.144765e-08\n",
      "numerical: -1.043426 analytic: -1.043426, relative error: 1.906307e-09\n",
      "numerical: 1.820522 analytic: 1.820522, relative error: 9.367491e-09\n",
      "numerical: -2.372661 analytic: -2.372661, relative error: 6.770462e-09\n",
      "numerical: -2.207457 analytic: -2.207457, relative error: 1.624128e-08\n",
      "numerical: -3.773861 analytic: -3.773861, relative error: 1.736705e-09\n",
      "numerical: -5.792123 analytic: -5.792123, relative error: 2.054047e-10\n",
      "numerical: 1.255930 analytic: 1.255930, relative error: 1.321276e-08\n",
      "numerical: 0.950363 analytic: 0.950364, relative error: 5.788700e-08\n",
      "numerical: 1.518308 analytic: 1.518308, relative error: 2.394659e-08\n",
      "numerical: -1.501777 analytic: -1.501777, relative error: 3.846200e-08\n",
      "numerical: -0.969178 analytic: -0.969178, relative error: 4.055234e-08\n",
      "numerical: -0.256519 analytic: -0.256519, relative error: 1.673996e-07\n",
      "numerical: 0.449875 analytic: 0.449875, relative error: 3.866700e-09\n",
      "numerical: -0.763331 analytic: -0.763331, relative error: 1.166790e-08\n"
     ]
    }
   ],
   "source": [
    "# Complete the implementation of softmax_loss_naive and implement a (naive)\n",
    "# version of the gradient that uses nested loops.\n",
    "loss, grad = softmax_loss_naive(W, X_dev, y_dev, 0.0)\n",
    "\n",
    "# As we did for the SVM, use numeric gradient checking as a debugging tool.\n",
    "# The numeric gradient should be close to the analytic gradient.\n",
    "from cs231n.gradient_check import grad_check_sparse\n",
    "f = lambda w: softmax_loss_naive(w, X_dev, y_dev, 0.0)[0]\n",
    "grad_numerical = grad_check_sparse(f, W, grad, 10)\n",
    "\n",
    "# similar to SVM case, do another gradient check with regularization\n",
    "loss, grad = softmax_loss_naive(W, X_dev, y_dev, 5e1)\n",
    "f = lambda w: softmax_loss_naive(w, X_dev, y_dev, 5e1)[0]\n",
    "grad_numerical = grad_check_sparse(f, W, grad, 10)"
   ]
  },
  {
   "cell_type": "code",
   "execution_count": 105,
   "metadata": {
    "collapsed": false
   },
   "outputs": [
    {
     "name": "stdout",
     "output_type": "stream",
     "text": [
      "naive loss: 2.376071e+00 computed in 0.810765s\n",
      "vectorized loss: 2.376071e+00 computed in 0.015772s\n",
      "Loss difference: 0.000000\n",
      "Gradient difference: 0.000000\n"
     ]
    }
   ],
   "source": [
    "# Now that we have a naive implementation of the softmax loss function and its gradient,\n",
    "# implement a vectorized version in softmax_loss_vectorized.\n",
    "# The two versions should compute the same results, but the vectorized version should be\n",
    "# much faster.\n",
    "tic = time.time()\n",
    "loss_naive, grad_naive = softmax_loss_naive(W, X_dev, y_dev, 0.000005)\n",
    "toc = time.time()\n",
    "print('naive loss: %e computed in %fs' % (loss_naive, toc - tic))\n",
    "\n",
    "from cs231n.classifiers.softmax import softmax_loss_vectorized\n",
    "tic = time.time()\n",
    "loss_vectorized, grad_vectorized = softmax_loss_vectorized(W, X_dev, y_dev, 0.000005)\n",
    "toc = time.time()\n",
    "print('vectorized loss: %e computed in %fs' % (loss_vectorized, toc - tic))\n",
    "\n",
    "# As we did for the SVM, we use the Frobenius norm to compare the two versions\n",
    "# of the gradient.\n",
    "grad_difference = np.linalg.norm(grad_naive - grad_vectorized, ord='fro')\n",
    "print('Loss difference: %f' % np.abs(loss_naive - loss_vectorized))\n",
    "print('Gradient difference: %f' % grad_difference)"
   ]
  },
  {
   "cell_type": "code",
   "execution_count": 106,
   "metadata": {
    "collapsed": false
   },
   "outputs": [
    {
     "name": "stdout",
     "output_type": "stream",
     "text": [
      "0\n",
      "2.09558060403942e-07 66329.47077810051 0.324081632653 0.343\n",
      "1\n",
      "2\n",
      "3\n",
      "4\n",
      "5\n",
      "3.873447030081478e-06 477.55266217672465 0.387959183673 0.396\n",
      "6\n",
      "7\n",
      "8\n",
      "9\n",
      "10\n",
      "11\n",
      "12\n",
      "13\n",
      "14\n",
      "15\n",
      "16\n",
      "17\n",
      "18\n",
      "19\n",
      "20\n",
      "21\n",
      "22\n",
      "23\n",
      "24\n",
      "25\n",
      "26\n",
      "27\n",
      "28\n",
      "1.2030474218565103e-06 4172.388965927033 0.383285714286 0.4\n",
      "29\n",
      "30\n",
      "31"
     ]
    },
    {
     "name": "stderr",
     "output_type": "stream",
     "text": [
      "/Users/jimiolaniyan/PycharmProjects/learn/cs231n/assignment1/cs231n/classifiers/softmax.py:92: RuntimeWarning: divide by zero encountered in log\n",
      "  diff = - np.log(np.exp(cc_scores)/np.sum(np.exp(scores), axis=1))\n",
      "/Users/jimiolaniyan/PycharmProjects/learn/cs231n/assignment1/cs231n/classifiers/softmax.py:95: RuntimeWarning: overflow encountered in double_scalars\n",
      "  loss += 0.5 * reg * np.sum(W * W)\n",
      "/Users/jimiolaniyan/PycharmProjects/learn/cs231n/assignment1/cs231n/classifiers/softmax.py:95: RuntimeWarning: overflow encountered in multiply\n",
      "  loss += 0.5 * reg * np.sum(W * W)\n",
      "/Users/jimiolaniyan/PycharmProjects/learn/cs231n/assignment1/cs231n/classifiers/softmax.py:108: RuntimeWarning: overflow encountered in multiply\n",
      "  \n"
     ]
    },
    {
     "name": "stdout",
     "output_type": "stream",
     "text": [
      "\n",
      "32\n",
      "33\n",
      "34\n",
      "35\n",
      "36\n",
      "37\n",
      "38\n",
      "39\n",
      "40\n",
      "41\n",
      "42\n",
      "43\n",
      "44\n",
      "45\n",
      "46\n",
      "47\n",
      "48\n",
      "49\n",
      "lr 1.591385e-07 reg 8.848123e+03 train accuracy: 0.332000 val accuracy: 0.339000\n",
      "lr 1.676774e-07 reg 5.665898e+04 train accuracy: 0.324408 val accuracy: 0.325000\n",
      "lr 2.095581e-07 reg 6.632947e+04 train accuracy: 0.324082 val accuracy: 0.343000\n",
      "lr 3.050471e-07 reg 5.806523e+03 train accuracy: 0.368204 val accuracy: 0.365000\n",
      "lr 3.458988e-07 reg 1.509919e+05 train accuracy: 0.282469 val accuracy: 0.292000\n",
      "lr 3.551438e-07 reg 5.417571e+05 train accuracy: 0.247429 val accuracy: 0.257000\n",
      "lr 3.858515e-07 reg 1.666065e+04 train accuracy: 0.363327 val accuracy: 0.368000\n",
      "lr 3.871129e-07 reg 1.215407e+04 train accuracy: 0.368286 val accuracy: 0.384000\n",
      "lr 4.904684e-07 reg 2.713035e+03 train accuracy: 0.372653 val accuracy: 0.380000\n",
      "lr 6.021661e-07 reg 5.283764e+05 train accuracy: 0.282898 val accuracy: 0.298000\n",
      "lr 6.291969e-07 reg 4.571420e+03 train accuracy: 0.383612 val accuracy: 0.381000\n",
      "lr 7.782871e-07 reg 2.215208e+04 train accuracy: 0.346102 val accuracy: 0.352000\n",
      "lr 7.960383e-07 reg 4.478223e+02 train accuracy: 0.344367 val accuracy: 0.346000\n",
      "lr 8.100737e-07 reg 3.539729e+04 train accuracy: 0.334082 val accuracy: 0.354000\n",
      "lr 8.295609e-07 reg 2.023709e+05 train accuracy: 0.258286 val accuracy: 0.256000\n",
      "lr 8.578642e-07 reg 7.558909e+03 train accuracy: 0.372327 val accuracy: 0.379000\n",
      "lr 8.663884e-07 reg 5.008879e+02 train accuracy: 0.350388 val accuracy: 0.340000\n",
      "lr 8.807220e-07 reg 3.106179e+02 train accuracy: 0.340531 val accuracy: 0.341000\n",
      "lr 1.013927e-06 reg 9.353079e+05 train accuracy: 0.219612 val accuracy: 0.241000\n",
      "lr 1.135126e-06 reg 6.875515e+02 train accuracy: 0.378510 val accuracy: 0.382000\n",
      "lr 1.135764e-06 reg 4.527183e+04 train accuracy: 0.321265 val accuracy: 0.333000\n",
      "lr 1.203047e-06 reg 4.172389e+03 train accuracy: 0.383286 val accuracy: 0.400000\n",
      "lr 1.367584e-06 reg 1.154799e+05 train accuracy: 0.278735 val accuracy: 0.294000\n",
      "lr 3.464785e-06 reg 2.207271e+04 train accuracy: 0.317735 val accuracy: 0.336000\n",
      "lr 3.737780e-06 reg 1.134961e+04 train accuracy: 0.301490 val accuracy: 0.313000\n",
      "lr 3.812287e-06 reg 2.891098e+05 train accuracy: 0.139367 val accuracy: 0.144000\n",
      "lr 3.873447e-06 reg 4.775527e+02 train accuracy: 0.387959 val accuracy: 0.396000\n",
      "lr 3.881286e-06 reg 4.135729e+02 train accuracy: 0.383143 val accuracy: 0.379000\n",
      "lr 3.908759e-06 reg 1.365623e+02 train accuracy: 0.402306 val accuracy: 0.381000\n",
      "lr 4.130906e-06 reg 9.773299e+03 train accuracy: 0.313878 val accuracy: 0.327000\n",
      "lr 4.827606e-06 reg 6.065101e+03 train accuracy: 0.289551 val accuracy: 0.303000\n",
      "lr 6.379836e-06 reg 1.101637e+05 train accuracy: 0.103796 val accuracy: 0.093000\n",
      "lr 6.740506e-06 reg 5.065141e+03 train accuracy: 0.282469 val accuracy: 0.279000\n",
      "lr 7.469974e-06 reg 3.423071e+04 train accuracy: 0.154306 val accuracy: 0.153000\n",
      "lr 7.634928e-06 reg 1.437028e+02 train accuracy: 0.323571 val accuracy: 0.318000\n",
      "lr 9.544849e-06 reg 4.190924e+04 train accuracy: 0.167347 val accuracy: 0.179000\n",
      "lr 1.347586e-05 reg 2.310774e+04 train accuracy: 0.172245 val accuracy: 0.194000\n",
      "lr 1.434225e-05 reg 2.113157e+03 train accuracy: 0.213612 val accuracy: 0.222000\n",
      "lr 1.511877e-05 reg 3.650140e+04 train accuracy: 0.172673 val accuracy: 0.148000\n",
      "lr 1.760855e-05 reg 4.480034e+04 train accuracy: 0.075755 val accuracy: 0.061000\n",
      "lr 2.082067e-05 reg 8.262693e+03 train accuracy: 0.174122 val accuracy: 0.172000\n",
      "lr 2.236615e-05 reg 2.067093e+03 train accuracy: 0.189837 val accuracy: 0.182000\n",
      "lr 2.707925e-05 reg 3.402623e+03 train accuracy: 0.202939 val accuracy: 0.190000\n",
      "lr 2.880734e-05 reg 1.994904e+02 train accuracy: 0.215735 val accuracy: 0.225000\n",
      "lr 3.131794e-05 reg 1.138567e+05 train accuracy: 0.100265 val accuracy: 0.087000\n",
      "lr 4.071641e-05 reg 6.914689e+05 train accuracy: 0.100265 val accuracy: 0.087000\n",
      "lr 4.903107e-05 reg 1.836258e+04 train accuracy: 0.105163 val accuracy: 0.088000\n",
      "lr 5.795028e-05 reg 1.324429e+03 train accuracy: 0.207347 val accuracy: 0.195000\n",
      "lr 7.671585e-05 reg 1.501572e+03 train accuracy: 0.180265 val accuracy: 0.204000\n",
      "lr 8.062209e-05 reg 1.501096e+02 train accuracy: 0.230531 val accuracy: 0.252000\n",
      "best validation accuracy achieved during cross-validation: 0.400000\n"
     ]
    }
   ],
   "source": [
    "# Use the validation set to tune hyperparameters (regularization strength and\n",
    "# learning rate). You should experiment with different ranges for the learning\n",
    "# rates and regularization strengths; if you are careful you should be able to\n",
    "# get a classification accuracy of over 0.35 on the validation set.\n",
    "from cs231n.classifiers import Softmax\n",
    "results = {}\n",
    "best_val = -1\n",
    "best_softmax = None\n",
    "learning_rates = [1e-7, 5e-7]\n",
    "regularization_strengths = [2.5e4, 5e4]\n",
    "\n",
    "################################################################################\n",
    "# TODO:                                                                        #\n",
    "# Use the validation set to set the learning rate and regularization strength. #\n",
    "# This should be identical to the validation that you did for the SVM; save    #\n",
    "# the best trained softmax classifer in best_softmax.                          #\n",
    "################################################################################\n",
    "iters = 50\n",
    "for ite in range(iters):\n",
    "    print(ite)\n",
    "    ler = 10**np.random.uniform(-7,-4)\n",
    "    regu = 10**np.random.uniform(2,6)\n",
    "    softmax = Softmax()\n",
    "    softmax.train(X_train, y_train, learning_rate=ler, reg=regu,\n",
    "                      num_iters=1000, verbose=False)\n",
    "    y_train_pred = softmax.predict(X_train)\n",
    "    training_accuracy = np.mean(y_train == y_train_pred)\n",
    "    y_val_pred = softmax.predict(X_val)\n",
    "    validation_accuracy = np.mean(y_val == y_val_pred)\n",
    "    results[(ler,regu)] = (training_accuracy, validation_accuracy)\n",
    "    if validation_accuracy > best_val:\n",
    "        best_val = validation_accuracy\n",
    "        best_softmax = softmax\n",
    "        print(ler,regu,training_accuracy, validation_accuracy)\n",
    "################################################################################\n",
    "#                              END OF YOUR CODE                                #\n",
    "################################################################################\n",
    "    \n",
    "# Print out results.\n",
    "for lr, reg in sorted(results):\n",
    "    train_accuracy, val_accuracy = results[(lr, reg)]\n",
    "    print('lr %e reg %e train accuracy: %f val accuracy: %f' % (\n",
    "                lr, reg, train_accuracy, val_accuracy))\n",
    "    \n",
    "print('best validation accuracy achieved during cross-validation: %f' % best_val)"
   ]
  },
  {
   "cell_type": "code",
   "execution_count": null,
   "metadata": {
    "collapsed": false
   },
   "outputs": [],
   "source": [
    "# evaluate on test set\n",
    "# Evaluate the best softmax on test set\n",
    "y_test_pred = best_softmax.predict(X_test)\n",
    "test_accuracy = np.mean(y_test == y_test_pred)\n",
    "print('softmax on raw pixels final test set accuracy: %f' % (test_accuracy, ))"
   ]
  },
  {
   "cell_type": "code",
   "execution_count": null,
   "metadata": {
    "collapsed": false
   },
   "outputs": [],
   "source": [
    "# Visualize the learned weights for each class\n",
    "w = best_softmax.W[:-1,:] # strip out the bias\n",
    "w = w.reshape(32, 32, 3, 10)\n",
    "\n",
    "w_min, w_max = np.min(w), np.max(w)\n",
    "\n",
    "classes = ['plane', 'car', 'bird', 'cat', 'deer', 'dog', 'frog', 'horse', 'ship', 'truck']\n",
    "for i in range(10):\n",
    "    plt.subplot(2, 5, i + 1)\n",
    "    \n",
    "    # Rescale the weights to be between 0 and 255\n",
    "    wimg = 255.0 * (w[:, :, :, i].squeeze() - w_min) / (w_max - w_min)\n",
    "    plt.imshow(wimg.astype('uint8'))\n",
    "    plt.axis('off')\n",
    "    plt.title(classes[i])"
   ]
  }
 ],
 "metadata": {
  "kernelspec": {
   "display_name": "Python 3",
   "language": "python",
   "name": "python3"
  },
  "language_info": {
   "codemirror_mode": {
    "name": "ipython",
    "version": 3
   },
   "file_extension": ".py",
   "mimetype": "text/x-python",
   "name": "python",
   "nbconvert_exporter": "python",
   "pygments_lexer": "ipython3",
   "version": "3.6.5"
  }
 },
 "nbformat": 4,
 "nbformat_minor": 0
}
